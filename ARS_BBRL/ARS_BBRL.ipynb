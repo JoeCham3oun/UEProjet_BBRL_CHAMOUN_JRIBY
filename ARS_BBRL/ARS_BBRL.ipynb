{
  "cells": [
    {
      "cell_type": "code",
      "execution_count": null,
      "metadata": {
        "id": "mHif2tu2Q3JC"
      },
      "outputs": [],
      "source": [
        "from omegaconf import OmegaConf, DictConfig\n",
        "\n",
        "from run_ars import run_ars"
      ]
    },
    {
      "cell_type": "code",
      "execution_count": null,
      "metadata": {
        "id": "c_8y0XrMQ_Pi"
      },
      "outputs": [],
      "source": [
        "cfg = OmegaConf.load(\"/content/config.yaml\")"
      ]
    },
    {
      "cell_type": "code",
      "execution_count": null,
      "metadata": {
        "colab": {
          "base_uri": "https://localhost:8080/"
        },
        "id": "Qw3BMtV3HYOT",
        "outputId": "84d68c55-909b-46ab-b32a-f7a85480b227"
      },
      "outputs": [],
      "source": [
        "cfg.algorithm.v2 = False\n",
        "cfg.verbose = True\n",
        "\n",
        "run_ars(cfg)"
      ]
    },
    {
      "cell_type": "code",
      "execution_count": null,
      "metadata": {
        "id": "5aHMpKDIHZkn"
      },
      "outputs": [],
      "source": [
        "cfg.algorithm.v2 = True\n",
        "cfg.verbose = False\n",
        "\n",
        "run_ars(cfg)"
      ]
    }
  ],
  "metadata": {
    "colab": {
      "provenance": []
    },
    "kernelspec": {
      "display_name": "Python 3",
      "name": "python3"
    },
    "language_info": {
      "name": "python"
    }
  },
  "nbformat": 4,
  "nbformat_minor": 0
}
